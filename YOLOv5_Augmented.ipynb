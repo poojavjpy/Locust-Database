{
  "cells": [
    {
      "cell_type": "markdown",
      "metadata": {
        "id": "view-in-github",
        "colab_type": "text"
      },
      "source": [
        "<a href=\"https://colab.research.google.com/github/poojavjpy/Locust-Detection/blob/main/YOLOv5_Augmented.ipynb\" target=\"_parent\"><img src=\"https://colab.research.google.com/assets/colab-badge.svg\" alt=\"Open In Colab\"/></a>"
      ]
    },
    {
      "cell_type": "markdown",
      "source": [
        "### ***Mounting Google Drive in Colab***"
      ],
      "metadata": {
        "id": "KrM_udXrgn4O"
      }
    },
    {
      "cell_type": "code",
      "execution_count": null,
      "metadata": {
        "id": "aRor_6exj0sr"
      },
      "outputs": [],
      "source": [
        "# lets connect with drive\n",
        "from google.colab import drive\n",
        "drive.mount(\"/content/drive\")"
      ]
    },
    {
      "cell_type": "markdown",
      "source": [
        "### ***Enabling Image Display & Suppressing Warnings for YOLO in Jupyter/Colab***"
      ],
      "metadata": {
        "id": "PQV0j_gFgwwO"
      }
    },
    {
      "cell_type": "code",
      "execution_count": null,
      "metadata": {
        "id": "s-GJT1VFiwy3"
      },
      "outputs": [],
      "source": [
        "import torch\n",
        "from IPython.display import Image\n",
        "import warnings\n",
        "warnings.filterwarnings(\"ignore\", category=UserWarning)"
      ]
    },
    {
      "cell_type": "markdown",
      "source": [
        "### ***Navigating to YOLOv5 Directory and Printing Current Path***"
      ],
      "metadata": {
        "id": "6rL239AAg-RL"
      }
    },
    {
      "cell_type": "code",
      "execution_count": null,
      "metadata": {
        "id": "gdVLCzR1jxoj"
      },
      "outputs": [],
      "source": [
        "%cd /content/drive/MyDrive/locust_detection/yolov5\n",
        "%pwd"
      ]
    },
    {
      "cell_type": "markdown",
      "source": [
        "### ***Installing Required Dependencies for YOLOv5***"
      ],
      "metadata": {
        "id": "jfemy6SdhKqc"
      }
    },
    {
      "cell_type": "code",
      "execution_count": null,
      "metadata": {
        "collapsed": true,
        "id": "ArhNKXzfkqWy"
      },
      "outputs": [],
      "source": [
        "%pip install -r /content/drive/MyDrive/locust_detection/yolov5/requirements.txt"
      ]
    },
    {
      "cell_type": "markdown",
      "source": [
        "### ***Installing Pillow Library for Image Processing***"
      ],
      "metadata": {
        "id": "pBCjrNowhWFH"
      }
    },
    {
      "cell_type": "code",
      "execution_count": null,
      "metadata": {
        "id": "aI4p8mUuGBCs"
      },
      "outputs": [],
      "source": [
        "!pip install Pillow"
      ]
    },
    {
      "cell_type": "markdown",
      "source": [
        "### ***TRAINING OF THE MODEL***"
      ],
      "metadata": {
        "id": "1umnDdQChe_r"
      }
    },
    {
      "cell_type": "code",
      "execution_count": null,
      "metadata": {
        "id": "aVRVhfh4lfUR",
        "collapsed": true
      },
      "outputs": [],
      "source": [
        "!python train.py --img 640 --batch 16 --epochs 60 --data datasett.yaml --weights yolov5s.pt --cache\n"
      ]
    },
    {
      "cell_type": "markdown",
      "source": [
        "### ***TESTING OF THE MODEL***"
      ],
      "metadata": {
        "id": "-Ygz3TRvhmoJ"
      }
    },
    {
      "cell_type": "code",
      "execution_count": null,
      "metadata": {
        "collapsed": true,
        "id": "SzJe9Q1lrQNg"
      },
      "outputs": [],
      "source": [
        "# Multiple Images:\n",
        "!python detect.py --weights /content/drive/MyDrive/locust_detection/yolov5/runs/train/exp2/weights/last.pt \\\n",
        "                   --conf 0.40 --data dataset.yaml \\\n",
        "                   --source /content/drive/MyDrive/locust_detection/test_data/images\n",
        "\n",
        "# Single Image\n",
        "'''!python detect.py --weights /content/drive/MyDrive/locust_detection/yolov5/runs/train/exp18/weights/best.pt \\\n",
        "                  --conf 0.40 --data dataset.yaml \\\n",
        "                  --source /content/drive/MyDrive/locust_detection/test_data/images/19.jpg\n",
        "                  '''\n"
      ]
    }
  ],
  "metadata": {
    "accelerator": "GPU",
    "colab": {
      "gpuType": "T4",
      "machine_shape": "hm",
      "provenance": [],
      "include_colab_link": true
    },
    "kernelspec": {
      "display_name": "Python 3",
      "name": "python3"
    },
    "language_info": {
      "name": "python"
    }
  },
  "nbformat": 4,
  "nbformat_minor": 0
}