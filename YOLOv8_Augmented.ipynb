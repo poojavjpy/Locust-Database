{
  "cells": [
    {
      "cell_type": "markdown",
      "metadata": {
        "id": "view-in-github",
        "colab_type": "text"
      },
      "source": [
        "<a href=\"https://colab.research.google.com/github/poojavjpy/Locust-Detection/blob/main/YOLOv8_Augmented.ipynb\" target=\"_parent\"><img src=\"https://colab.research.google.com/assets/colab-badge.svg\" alt=\"Open In Colab\"/></a>"
      ]
    },
    {
      "cell_type": "markdown",
      "source": [
        "***Mounting Google Drive in Colab***"
      ],
      "metadata": {
        "id": "vygYvb53iSu3"
      }
    },
    {
      "cell_type": "code",
      "execution_count": null,
      "metadata": {
        "id": "otclQkUzZZpA"
      },
      "outputs": [],
      "source": [
        "# Mount Google Drive to access your dataset\n",
        "from google.colab import drive\n",
        "drive.mount('/content/drive')\n"
      ]
    },
    {
      "cell_type": "markdown",
      "source": [
        "***Installing Ultralytics for YOLOv8***"
      ],
      "metadata": {
        "id": "Hbb2ajaNieHq"
      }
    },
    {
      "cell_type": "code",
      "execution_count": null,
      "metadata": {
        "collapsed": true,
        "id": "noJKd3IiZzF1"
      },
      "outputs": [],
      "source": [
        "!pip install ultralytics\n"
      ]
    },
    {
      "cell_type": "markdown",
      "source": [
        "***Import necessary libraries***"
      ],
      "metadata": {
        "id": "rm2SxY1lihTi"
      }
    },
    {
      "cell_type": "code",
      "execution_count": null,
      "metadata": {
        "collapsed": true,
        "id": "5qHZXBryZVXY"
      },
      "outputs": [],
      "source": [
        "# Import necessary libraries\n",
        "import os\n",
        "from ultralytics import YOLO\n",
        "\n",
        "\n"
      ]
    },
    {
      "cell_type": "markdown",
      "metadata": {
        "id": "5loqqpPI-J5F"
      },
      "source": [
        "***Clearing the cache***"
      ]
    },
    {
      "cell_type": "code",
      "execution_count": null,
      "metadata": {
        "id": "ecXCVmxHjvmc"
      },
      "outputs": [],
      "source": [
        "!rm /content/drive/MyDrive/locust_detection/dataset/roboflow/labels/train.cache"
      ]
    },
    {
      "cell_type": "code",
      "execution_count": null,
      "metadata": {
        "id": "dHI3s7uJj25h"
      },
      "outputs": [],
      "source": [
        "!rm /content/drive/MyDrive/locust_detection/dataset/roboflow/labels/val.cache"
      ]
    },
    {
      "cell_type": "markdown",
      "metadata": {
        "id": "NKWxPFPG-TBo"
      },
      "source": [
        "***Dataset Loading***"
      ]
    },
    {
      "cell_type": "code",
      "execution_count": null,
      "metadata": {
        "id": "4mldcQWmaQtn"
      },
      "outputs": [],
      "source": [
        "# Define the paths to your dataset and where to save the model\n",
        "dataset_path = '/content/drive/MyDrive/locust_detection/dataset/augmented'  # Path to your YOLOv5 formatted dataset\n",
        "save_model_path = '/content/drive/MyDrive/yolov8_model/robo yolo v8/augmented'  # Path to save the trained YOLOv8 model\n",
        "\n",
        "# Load the YOLOv8 model\n",
        "model = YOLO('yolov8n.pt')  # 'yolov8n.pt' is the nano version of YOLOv8. You can use 'yolov8s.pt', 'yolov8m.pt', etc. for different sizes\n"
      ]
    },
    {
      "cell_type": "markdown",
      "metadata": {
        "id": "9injp0m5-bQm"
      },
      "source": [
        "***Training of the model***"
      ]
    },
    {
      "cell_type": "code",
      "execution_count": null,
      "metadata": {
        "collapsed": true,
        "id": "SwtsKjWkaceN"
      },
      "outputs": [],
      "source": [
        "# Define the correct path to your dataset's data.yaml\n",
        "dataset_yaml_path = '/content/drive/MyDrive/locust_detection/yolov5/datasett.yaml'  # Ensure this is the correct path\n",
        "\n",
        "# Train the YOLOv8 model using the correct path\n",
        "results = model.train(\n",
        "    data=dataset_yaml_path,  # Use the correct path here\n",
        "    epochs=60,\n",
        "    batch=16,\n",
        "    imgsz=640,\n",
        "    save_period=10,\n",
        "    project=save_model_path,\n",
        "    name='yolov8_detection'\n",
        ")\n"
      ]
    },
    {
      "cell_type": "markdown",
      "metadata": {
        "id": "pVFncP0O-hUC"
      },
      "source": [
        "***Testing Single Image***"
      ]
    },
    {
      "cell_type": "code",
      "execution_count": null,
      "metadata": {
        "id": "Z21XPK3elEBT"
      },
      "outputs": [],
      "source": [
        "from ultralytics import YOLO\n",
        "from PIL import Image\n",
        "import matplotlib.pyplot as plt\n",
        "import os\n",
        "import shutil\n",
        "\n",
        "# Define paths\n",
        "weights_path = '/content/drive/MyDrive/yolov8_model/robo yolo v8/augmented/yolov8_detection2/weights/last.pt'  # Path to the trained model weights\n",
        "image_path = '/content/drive/MyDrive/locust_detection/test_data/images/666.jpg'  # Path to the image for testing\n",
        "output_directory = '/content/drive/MyDrive/yolov8_output/robo yolo v8'  # Directory to save output images\n",
        "\n",
        "# Load the YOLOv8 model\n",
        "model = YOLO(weights_path)\n",
        "\n",
        "# Perform inference on the image\n",
        "results = model.predict(source=image_path, conf=0.40, save=True, project=output_directory, name='detection_results')\n",
        "\n",
        "# Print the results\n",
        "print(f\"Detection results for {image_path}:\")\n",
        "for result in results:\n",
        "    boxes = result.boxes.xyxy  # Bounding box coordinates (xmin, ymin, xmax, ymax)\n",
        "    confidences = result.boxes.conf  # Confidence scores\n",
        "    class_ids = result.boxes.cls  # Class IDs\n",
        "\n",
        "    for box, confidence, class_id in zip(boxes, confidences, class_ids):\n",
        "        print(f\"Class: {int(class_id)}, Confidence: {confidence:.2f}, Box: {box.tolist()}\")\n",
        "\n",
        "# Define the path to the saved output image\n",
        "# YOLOv8 might create a subfolder; handle this by moving the image\n",
        "# Check for subfolders and move images to the target directory\n",
        "for root, dirs, files in os.walk(output_directory):\n",
        "    for file in files:\n",
        "        if file.endswith(('.jpg', '.jpeg', '.png', '.bmp')):\n",
        "            src_path = os.path.join(root, file)\n",
        "            dst_path = os.path.join(output_directory, file)\n",
        "            shutil.move(src_path, dst_path)\n",
        "\n",
        "# Define the path to the moved image\n",
        "saved_image_path = os.path.join(output_directory, os.path.basename(image_path))\n",
        "\n",
        "# Print out saved image directory to debug path issues\n",
        "print(f\"Expected path for saved image: {saved_image_path}\")\n",
        "\n",
        "# Load and display the saved image with bounding boxes\n",
        "if os.path.exists(saved_image_path):\n",
        "    img = Image.open(saved_image_path)\n",
        "\n",
        "    # Display the image with bounding boxes\n",
        "    plt.figure(figsize=(10, 10))\n",
        "    plt.imshow(img)\n",
        "    plt.axis('off')  # Hide axes\n",
        "    plt.show()\n",
        "else:\n",
        "    print(f\"Saved image not found at {saved_image_path}\")\n"
      ]
    },
    {
      "cell_type": "markdown",
      "source": [
        "***Testing Multiple Images***"
      ],
      "metadata": {
        "id": "qjKoEmasjdgP"
      }
    },
    {
      "cell_type": "code",
      "execution_count": null,
      "metadata": {
        "colab": {
          "background_save": true
        },
        "id": "hJi1GKML8EVL"
      },
      "outputs": [],
      "source": [
        "from ultralytics import YOLO\n",
        "import os\n",
        "import shutil\n",
        "from PIL import Image\n",
        "import matplotlib.pyplot as plt\n",
        "\n",
        "# Define paths\n",
        "weights_path = '/content/drive/MyDrive/yolov8_model/robo yolo v8/augmented/yolov8_detection2/weights/last.pt'  # Path to the trained model weights\n",
        "source_directory = '/content/drive/MyDrive/locust_detection/test_data/images'  # Directory containing images\n",
        "output_directory = '/content/drive/MyDrive/yolov8_output/robo yolo v8/augmented3'  # Directory to save output images\n",
        "\n",
        "# Load the YOLOv8 model\n",
        "model = YOLO(weights_path)\n",
        "\n",
        "# Perform inference on all images in the source directory\n",
        "results = model.predict(source=source_directory, conf=0.40, save=True, project=output_directory, name='detection_results')\n",
        "\n",
        "# Move images if YOLOv8 saves them in subfolders\n",
        "for root, dirs, files in os.walk(output_directory):\n",
        "    for file in files:\n",
        "        if file.endswith(('.jpg', '.jpeg', '.png', '.bmp')):\n",
        "            src_path = os.path.join(root, file)\n",
        "            dst_path = os.path.join(output_directory, file)\n",
        "            shutil.move(src_path, dst_path)\n",
        "\n",
        "# Function to resize images\n",
        "def resize_image(image_path, size=(640, 480)):\n",
        "    with Image.open(image_path) as img:\n",
        "        img = img.resize(size, Image.Resampling.LANCZOS)  # Updated from ANTIALIAS to LANCZOS\n",
        "        return img\n",
        "\n",
        "# Display resized images\n",
        "image_files = [f for f in os.listdir(output_directory) if f.endswith(('.jpg', '.jpeg', '.png', '.bmp'))]\n",
        "num_images = len(image_files)\n",
        "\n",
        "# Set grid size\n",
        "cols = 5\n",
        "rows = (num_images // cols) + (num_images % cols > 0)  # Number of rows needed\n",
        "\n",
        "plt.figure(figsize=(cols * 4, rows * 4))  # Adjust the figure size based on the grid\n",
        "\n",
        "for i, image_file in enumerate(image_files):\n",
        "    img_path = os.path.join(output_directory, image_file)\n",
        "    img = resize_image(img_path)\n",
        "\n",
        "    plt.subplot(rows, cols, i + 1)\n",
        "    plt.imshow(img)\n",
        "    plt.axis('off')\n",
        "    plt.title(f\"Image {i + 1}\")\n",
        "\n",
        "plt.tight_layout()\n",
        "plt.show()\n"
      ]
    }
  ],
  "metadata": {
    "accelerator": "GPU",
    "colab": {
      "gpuType": "T4",
      "machine_shape": "hm",
      "provenance": [],
      "authorship_tag": "ABX9TyNFA6TWK51yow8OZMM8w3Sc",
      "include_colab_link": true
    },
    "kernelspec": {
      "display_name": "Python 3",
      "name": "python3"
    },
    "language_info": {
      "name": "python"
    }
  },
  "nbformat": 4,
  "nbformat_minor": 0
}