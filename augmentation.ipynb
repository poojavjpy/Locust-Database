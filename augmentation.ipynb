{
  "nbformat": 4,
  "nbformat_minor": 0,
  "metadata": {
    "colab": {
      "provenance": [],
      "authorship_tag": "ABX9TyO6VwdWPf2KBP3odrxyHxlk",
      "include_colab_link": true
    },
    "kernelspec": {
      "name": "python3",
      "display_name": "Python 3"
    },
    "language_info": {
      "name": "python"
    }
  },
  "cells": [
    {
      "cell_type": "markdown",
      "metadata": {
        "id": "view-in-github",
        "colab_type": "text"
      },
      "source": [
        "<a href=\"https://colab.research.google.com/github/poojavjpy/Locust-Detection/blob/main/augmentation.ipynb\" target=\"_parent\"><img src=\"https://colab.research.google.com/assets/colab-badge.svg\" alt=\"Open In Colab\"/></a>"
      ]
    },
    {
      "cell_type": "code",
      "execution_count": null,
      "metadata": {
        "id": "cEJa2eKUTAk8"
      },
      "outputs": [],
      "source": [
        "import cv2\n",
        "import numpy as np\n",
        "import os\n",
        "import random\n",
        "\n",
        "def resize_to_same_dimensions(images, target_width=600, target_height=600):\n",
        "    \"\"\"Resize all images to the same width and height.\"\"\"\n",
        "    resized_images = []\n",
        "    for image in images:\n",
        "        resized_image = cv2.resize(image, (target_width, target_height))\n",
        "        resized_images.append(resized_image)\n",
        "    return resized_images\n",
        "\n",
        "def add_border(image, border_size=10, color=(255, 255, 255)):\n",
        "    \"\"\"Add a border around the image.\"\"\"\n",
        "    return cv2.copyMakeBorder(image, border_size, border_size, border_size, border_size, cv2.BORDER_CONSTANT, value=color)\n",
        "\n",
        "def put_title_on_image(image, title, font_scale=1.5, color=(255, 0, 0), thickness=3):\n",
        "    \"\"\"Place title text on the image at an appropriate location.\"\"\"\n",
        "    text_size = cv2.getTextSize(title, cv2.FONT_HERSHEY_SIMPLEX, font_scale, thickness)[0]\n",
        "    text_x = (image.shape[1] - text_size[0]) // 2\n",
        "    text_y = text_size[1] + 10  # Add some padding from the top\n",
        "    image = cv2.putText(image, title, (text_x, text_y), cv2.FONT_HERSHEY_SIMPLEX, font_scale, color, thickness)\n",
        "    return image\n",
        "\n",
        "def combine_images(images, titles, output_path, max_images_per_row=3):\n",
        "    \"\"\"Combine images into a single large image with titles and save it.\"\"\"\n",
        "    images = resize_to_same_dimensions(images)\n",
        "    images_with_borders = [add_border(image) for image in images]\n",
        "    images_with_titles = [put_title_on_image(image, title) for image, title in zip(images_with_borders, titles)]\n",
        "    num_rows = (len(images_with_titles) + max_images_per_row - 1) // max_images_per_row\n",
        "    rows = []\n",
        "    for i in range(num_rows):\n",
        "        start_idx = i * max_images_per_row\n",
        "        end_idx = min((i + 1) * max_images_per_row, len(images_with_titles))\n",
        "        row_images = images_with_titles[start_idx:end_idx]\n",
        "        rows.append(np.hstack(row_images))\n",
        "    combined_image = np.vstack(rows)\n",
        "    cv2.imwrite(output_path, cv2.cvtColor(combined_image, cv2.COLOR_RGB2BGR))\n",
        "    print(f\"All images combined and saved at {output_path}\")\n",
        "\n",
        "# Directory containing input images\n",
        "input_folder = r\"/content/drive/MyDrive/locust_detection/dataset/images/train\"  # Update this path\n",
        "output_dir = r\"/content/drive/MyDrive/locust_detection/dataset/Augmented_Images/images/train\"  # Update this path\n",
        "os.makedirs(output_dir, exist_ok=True)\n",
        "\n",
        "# Process each image in the folder\n",
        "for filename in os.listdir(input_folder):\n",
        "    input_image_path = os.path.join(input_folder, filename)\n",
        "    if not os.path.isfile(input_image_path):\n",
        "        continue  # Skip directories\n",
        "    try:\n",
        "        original_image = cv2.imread(input_image_path)\n",
        "        if original_image is None:\n",
        "            raise FileNotFoundError(f\"Image not found at {input_image_path}\")\n",
        "        original_image_rgb = cv2.cvtColor(original_image, cv2.COLOR_BGR2RGB)\n",
        "        locust_bboxes = [(50, 50, 250, 250)]  # Placeholder for locust detection\n",
        "        locust_bbox = locust_bboxes[0]\n",
        "        cropped_locust = original_image_rgb[locust_bbox[1]:locust_bbox[3], locust_bbox[0]:locust_bbox[2]]\n",
        "        flipped_image = cv2.flip(original_image_rgb, 1)\n",
        "        vertical_flipped_image = cv2.flip(original_image_rgb, 0)\n",
        "        brightness_image = cv2.convertScaleAbs(original_image_rgb, alpha=random.uniform(0.8, 1.2), beta=random.randint(-30, 30))\n",
        "        rotated_scaled_image = cv2.warpAffine(original_image_rgb, cv2.getRotationMatrix2D((original_image_rgb.shape[1] / 2, original_image_rgb.shape[0] / 2), random.uniform(-15, 15), random.uniform(0.9, 1.1)), (original_image_rgb.shape[1], original_image_rgb.shape[0]))\n",
        "        blurred_image = cv2.GaussianBlur(original_image_rgb, (random.choice([3, 5]), random.choice([3, 5])), 0)\n",
        "        hsv_image = cv2.cvtColor(original_image_rgb, cv2.COLOR_RGB2HSV)\n",
        "        hsv_image = cv2.merge([cv2.add(hsv_image[:, :, 0], random.randint(-10, 10)), hsv_image[:, :, 1], hsv_image[:, :, 2]])\n",
        "        color_shifted_image = cv2.merge([cv2.add(original_image_rgb[:, :, 0], random.randint(-20, 20)), cv2.add(original_image_rgb[:, :, 1], random.randint(-20, 20)), cv2.add(original_image_rgb[:, :, 2], random.randint(-20, 20))])\n",
        "        augmented_images = [original_image_rgb, flipped_image, vertical_flipped_image, brightness_image, rotated_scaled_image, blurred_image, hsv_image, color_shifted_image, cropped_locust]\n",
        "        titles = ['Original', 'Flipped', 'Vertical Flip', 'Brightness', 'Rotation/Scale', 'Gaussian Blur', 'HSV Adjust', 'Color Shift', 'Cropped']\n",
        "        output_path = os.path.join(output_dir, f\"combined_{filename}\")\n",
        "        combine_images(augmented_images, titles, output_path)\n",
        "    except Exception as e:\n",
        "        print(f\"Error processing {filename}: {e}\")"
      ]
    }
  ]
}